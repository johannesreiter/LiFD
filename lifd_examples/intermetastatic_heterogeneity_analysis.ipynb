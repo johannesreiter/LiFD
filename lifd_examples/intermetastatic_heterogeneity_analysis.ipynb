{
 "cells": [
  {
   "cell_type": "code",
   "execution_count": 1,
   "metadata": {},
   "outputs": [
    {
     "name": "stderr",
     "output_type": "stream",
     "text": [
      "INFO:lifd.lifd:VarCode is used for mutation effect prediction.\n"
     ]
    }
   ],
   "source": [
    "import os\n",
    "import pandas as pd\n",
    "import numpy as np\n",
    "\n",
    "from lifd.lifd import LiFD, LIFD_COL, LIFD_SUP_COL, LIFD1_SUP_COL, LIFD2_SUP_COL\n",
    "from lifd.databases.hotspots_database import HotspotsDB\n",
    "from lifd.databases.cgi_database import CgiDB\n",
    "from lifd.databases.oncokb_database import OncoKBDB\n",
    "from lifd.databases.cosmic_db import CosmicDB\n",
    "from lifd.predictors.vep import Vep\n",
    "from lifd.predictors.candra import Candra\n",
    "from lifd.predictors.cravat import Cravat\n",
    "from lifd.predictors.cgi import Cgi\n",
    "from lifd.predictors.fathmm import FatHMM\n",
    "from lifd.settings import HOTSPOTS_FP, ONCOGENIC_VARS_FP, ONCOKB_ALLVARS_FP, COSMIC_VARS_FP, OUTPUT_DIR\n",
    "from lifd.utils import FUNC_COL, init"
   ]
  },
  {
   "cell_type": "markdown",
   "metadata": {},
   "source": [
    "##### Either create a ```cgi_settings.py``` file with this content and import it or manually set these variables here:\n",
    "```\n",
    "CGI_USER_ID = '<YOUR_CGI_USERNAME>'\n",
    "CGI_TOKEN = '<YOUR_CGI_TOKEN>'\n",
    "```"
   ]
  },
  {
   "cell_type": "code",
   "execution_count": 2,
   "metadata": {},
   "outputs": [
    {
     "name": "stderr",
     "output_type": "stream",
     "text": [
      "INFO:lifd.predictors.cgi:Successfully set new username reiter.j@gmail.com and token.\n",
      "INFO:lifd.utils:Output directory: /Users/reiter/workspaces/ped_gits/met_heterogeneity/analysis/lifd_examples/TMP\n"
     ]
    },
    {
     "name": "stdout",
     "output_type": "stream",
     "text": [
      "Read file with 103 variants: SupplementaryTable3.xlsx\n"
     ]
    }
   ],
   "source": [
    "from cgi_settings import CGI_USER_ID, CGI_TOKEN\n",
    "# from lifd.excluded_module.cgi_settings import CGI_USER_ID, CGI_TOKEN\n",
    "# CGI_USER_ID = '<YOUR_CGI_USERNAME>'\n",
    "# CGI_TOKEN = '<YOUR_CGI_TOKEN>'\n",
    "Cgi.set_login(CGI_USER_ID, CGI_TOKEN)\n",
    "\n",
    "output_dir = init()\n",
    "\n",
    "reference_genome = 'hg19'\n",
    "suppl_table1_fp = 'SupplementaryTable3.xlsx'\n",
    "\n",
    "het_cats = ['Truncal', 'Branched']\n",
    "\n",
    "input_fp = suppl_table1_fp\n",
    "\n",
    "from pathlib import Path\n",
    "input_p = Path(input_fp)\n",
    "output_fn = '{}_LiFDed.xlsx'.format(input_p.stem)\n",
    "output_fp = os.path.join(input_p.parent, output_fn)\n",
    "\n",
    "if input_p.suffix == '.xlsx' or input_p.suffix == '.xls':\n",
    "    var_df = pd.read_excel(input_fp, comment='#')\n",
    "    var_df[FUNC_COL] = True\n",
    "    print('Read file with {} variants: {}'.format(len(var_df), input_fp))"
   ]
  },
  {
   "cell_type": "code",
   "execution_count": 3,
   "metadata": {},
   "outputs": [
    {
     "name": "stderr",
     "output_type": "stream",
     "text": [
      "INFO:lifd.mutation_effects:Set reference genome to hg19.\n",
      "INFO:lifd.lifd:Using databases: Hotspots, CGI_Catalog, OncoKB, COSMIC\n",
      "INFO:lifd.lifd:Using predictors: Vep, Candra, Cravat, FatHMM, Cgi\n",
      "INFO:lifd.lifd:No file with driver genes was given. Using column with driver gene classification: TCGADrClf\n",
      "INFO:lifd.lifd:Initialized LiFD 0.1.0 with 4 databases and 5 predictors.\n"
     ]
    }
   ],
   "source": [
    "# set up databases for first phase of LiFD\n",
    "hs_db = HotspotsDB(HOTSPOTS_FP)\n",
    "cgi_db = CgiDB(ONCOGENIC_VARS_FP)\n",
    "oncokb_db = OncoKBDB(ONCOKB_ALLVARS_FP)\n",
    "cosmic_db = CosmicDB(COSMIC_VARS_FP)\n",
    "dbs = [hs_db, cgi_db, oncokb_db, cosmic_db\n",
    "      ]\n",
    "\n",
    "# set up predictors for second phase of LiFD\n",
    "prds = [Vep, Candra, Cravat, FatHMM, Cgi]\n",
    "# prds = [FatHMM]\n",
    "lifd = LiFD(databases=dbs, predictors=prds, driver_gene_fp=None, \n",
    "            driver_gene_col='TCGADrClf', \n",
    "#             driver_gene_col='TokheimDrClf',\n",
    "            reference_genome=reference_genome)"
   ]
  },
  {
   "cell_type": "code",
   "execution_count": 4,
   "metadata": {},
   "outputs": [
    {
     "name": "stderr",
     "output_type": "stream",
     "text": [
      "INFO:lifd.lifd:LIFD output directory: /Users/reiter/workspaces/ped_gits/met_heterogeneity/analysis/lifd_examples/TMP\n",
      "INFO:lifd.lifd:LiFD predicts that 44 of 82 (53.7%) nonsynonymous or splice-site variants in driver genes are functional.\n",
      "INFO:lifd.lifd:Positive predictions of LiFD1 27/82 (32.9%)\n",
      "INFO:lifd.lifd:Positive predictions of LiFD2 29/82 (35.4%)\n",
      "INFO:lifd.lifd:Exported 103 annotated variants (44 LiFD) to TMP/SupplementaryTable3_LiFDed.xlsx.\n"
     ]
    }
   ],
   "source": [
    "var_df = lifd.run_lifd(var_df, output_dir=output_dir, export_fn=output_fn)"
   ]
  },
  {
   "cell_type": "code",
   "execution_count": 5,
   "metadata": {},
   "outputs": [
    {
     "name": "stdout",
     "output_type": "stream",
     "text": [
      "Number of truncal and branched nonsynonymous or splice site mutations in TCGA driver genes: 68 vs 14\n",
      "Number of truncal and branched LiFDs: 44 vs 0\n",
      "Mean number of truncal and branched LiFDs per subject: 2.6 vs 0.0\n"
     ]
    }
   ],
   "source": [
    "print('Number of truncal and branched nonsynonymous or splice site mutations in TCGA driver genes: {} vs {}'.format(\n",
    "    len(var_df[(var_df.Clonality == het_cats[0]) & var_df.TCGADrClf]), \n",
    "    len(var_df[(var_df.Clonality == het_cats[1]) & var_df.TCGADrClf])))\n",
    "print('Number of truncal and branched LiFDs: {} vs {}'.format(\n",
    "    len(var_df[(var_df.Clonality == het_cats[0]) & var_df.LiFD]), \n",
    "    len(var_df[(var_df.Clonality == het_cats[1]) & var_df.LiFD])))\n",
    "# note that variants that did not reach present or absent probabilities of at least 80% across\n",
    "# all samples were filtered out to minimize any biases from low sequencing depth or low neoplastic cell content\n",
    "\n",
    "# count number of functional drivers per subject\n",
    "# always use original dataframe to calculate means or medians because otherwise subjects with zero of \n",
    "# the considered mutations would be excluded from the summary statistic\n",
    "# for example, np.mean(lifd_df[(lifd_df.Clonality == 'Clonal')].groupby(['Subject'])['LiFD'].agg('count')) \n",
    "# gives 2.4 instead of 2.1 clonal LiFDs\n",
    "print('Mean number of truncal and branched LiFDs per subject: {:.2g} vs 0.0'.format(\n",
    "    np.mean(var_df.groupby(['Subject', 'LiFD', 'Clonality']).size().unstack(level=[1,2], fill_value=0)[True, het_cats[0]]), \n",
    "#     np.mean(var_df.groupby(['Subject', 'LiFD', 'Clonality']).size().unstack(level=[1,2], fill_value=0)[True, het_cats[1]])\n",
    "    ))"
   ]
  },
  {
   "cell_type": "markdown",
   "metadata": {},
   "source": [
    "### Reanalyze data with a different driver gene list from Tokheim et al, PNAS 2016 (Table S1)"
   ]
  },
  {
   "cell_type": "code",
   "execution_count": 6,
   "metadata": {},
   "outputs": [
    {
     "name": "stderr",
     "output_type": "stream",
     "text": [
      "INFO:lifd.mutation_effects:Set reference genome to hg19.\n",
      "INFO:lifd.lifd:Using databases: Hotspots, CGI_Catalog, OncoKB, COSMIC\n",
      "INFO:lifd.lifd:Using predictors: Vep, Candra, Cravat, FatHMM, Cgi\n",
      "INFO:lifd.lifd:No file with driver genes was given. Using column with driver gene classification: TokheimDrClf\n",
      "INFO:lifd.lifd:Initialized LiFD 0.1.0 with 4 databases and 5 predictors.\n",
      "INFO:lifd.lifd:LIFD output directory: /Users/reiter/workspaces/ped_gits/met_heterogeneity/analysis/lifd_examples/TMP\n",
      "INFO:lifd.lifd:LiFD predicts that 44 of 88 (50.0%) nonsynonymous or splice-site variants in driver genes are functional.\n",
      "INFO:lifd.lifd:Positive predictions of LiFD1 27/88 (30.7%)\n",
      "INFO:lifd.lifd:Positive predictions of LiFD2 29/88 (33.0%)\n"
     ]
    }
   ],
   "source": [
    "lifd_tu = LiFD(databases=dbs, predictors=prds, driver_gene_fp=None, driver_gene_col='TokheimDrClf')\n",
    "var_tu_df = lifd_tu.run_lifd(var_df, output_dir=output_dir, export_fn=None)"
   ]
  },
  {
   "cell_type": "code",
   "execution_count": 7,
   "metadata": {},
   "outputs": [
    {
     "name": "stdout",
     "output_type": "stream",
     "text": [
      "Number of clonal and subclonal nonsynonymous or splice site mutations in TCGA driver genes: 68 vs 14\n",
      "Number of clonal and subclonal LiFDs: 43 vs 1\n",
      "Mean number of clonal and subclonal LiFDs per subject: 2.5 vs 0.06\n"
     ]
    }
   ],
   "source": [
    "print('Number of clonal and subclonal nonsynonymous or splice site mutations in TCGA driver genes: {} vs {}'.format(\n",
    "    len(var_tu_df[(var_tu_df.Clonality == het_cats[0]) & var_tu_df.TCGADrClf]), \n",
    "    len(var_tu_df[(var_tu_df.Clonality == het_cats[1]) & var_tu_df.TCGADrClf])))\n",
    "print('Number of clonal and subclonal LiFDs: {} vs {}'.format(\n",
    "    len(var_tu_df[(var_tu_df.Clonality == het_cats[0]) & var_tu_df.LiFD]), \n",
    "    len(var_tu_df[(var_tu_df.Clonality == het_cats[1]) & var_tu_df.LiFD])))\n",
    "\n",
    "# count number of functional drivers per subject\n",
    "print('Mean number of clonal and subclonal LiFDs per subject: {:.1f} vs {:.2f}'.format(\n",
    "    np.mean(var_tu_df.groupby(['Subject', 'LiFD', 'Clonality']).size().unstack(level=[1,2], fill_value=0)[True, het_cats[0]]), \n",
    "    np.mean(var_tu_df.groupby(['Subject', 'LiFD', 'Clonality']).size().unstack(level=[1,2], fill_value=0)[True, het_cats[1]])))"
   ]
  },
  {
   "cell_type": "code",
   "execution_count": null,
   "metadata": {},
   "outputs": [],
   "source": []
  }
 ],
 "metadata": {
  "kernelspec": {
   "display_name": "Python 3",
   "language": "python",
   "name": "python3"
  },
  "language_info": {
   "codemirror_mode": {
    "name": "ipython",
    "version": 3
   },
   "file_extension": ".py",
   "mimetype": "text/x-python",
   "name": "python",
   "nbconvert_exporter": "python",
   "pygments_lexer": "ipython3",
   "version": "3.6.10"
  }
 },
 "nbformat": 4,
 "nbformat_minor": 2
}
